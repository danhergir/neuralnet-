{
 "cells": [
  {
   "cell_type": "code",
   "execution_count": 1,
   "metadata": {},
   "outputs": [],
   "source": [
    "import numpy as np\n",
    "from keras.datasets import imdb\n",
    "from keras import models, layers, optimizers"
   ]
  },
  {
   "cell_type": "code",
   "execution_count": 2,
   "metadata": {},
   "outputs": [],
   "source": [
    "(train_data, train_labels), (test_data, test_labels) = imdb.load_data(num_words=10000)"
   ]
  },
  {
   "cell_type": "code",
   "execution_count": 3,
   "metadata": {},
   "outputs": [],
   "source": [
    "word_index = imdb.get_word_index()\n",
    "# Switch values and keys. Now IDs are the keys\n",
    "word_index = dict([(value, key )for (key, value) in word_index.items()])"
   ]
  },
  {
   "cell_type": "code",
   "execution_count": 4,
   "metadata": {},
   "outputs": [
    {
     "name": "stdout",
     "output_type": "stream",
     "text": [
      "None\n",
      "this\n",
      "film\n",
      "was\n",
      "just\n",
      "brilliant\n",
      "casting\n",
      "location\n",
      "scenery\n",
      "story\n",
      "direction\n",
      "everyone's\n",
      "really\n",
      "suited\n",
      "the\n",
      "part\n",
      "they\n",
      "played\n",
      "and\n",
      "you\n",
      "could\n",
      "just\n",
      "imagine\n",
      "being\n",
      "there\n",
      "robert\n",
      "None\n",
      "is\n",
      "an\n",
      "amazing\n",
      "actor\n",
      "and\n",
      "now\n",
      "the\n",
      "same\n",
      "being\n",
      "director\n",
      "None\n",
      "father\n",
      "came\n",
      "from\n",
      "the\n",
      "same\n",
      "scottish\n",
      "island\n",
      "as\n",
      "myself\n",
      "so\n",
      "i\n",
      "loved\n",
      "the\n",
      "fact\n",
      "there\n",
      "was\n",
      "a\n",
      "real\n",
      "connection\n",
      "with\n",
      "this\n",
      "film\n",
      "the\n",
      "witty\n",
      "remarks\n",
      "throughout\n",
      "the\n",
      "film\n",
      "were\n",
      "great\n",
      "it\n",
      "was\n",
      "just\n",
      "brilliant\n",
      "so\n",
      "much\n",
      "that\n",
      "i\n",
      "bought\n",
      "the\n",
      "film\n",
      "as\n",
      "soon\n",
      "as\n",
      "it\n",
      "was\n",
      "released\n",
      "for\n",
      "None\n",
      "and\n",
      "would\n",
      "recommend\n",
      "it\n",
      "to\n",
      "everyone\n",
      "to\n",
      "watch\n",
      "and\n",
      "the\n",
      "fly\n",
      "fishing\n",
      "was\n",
      "amazing\n",
      "really\n",
      "cried\n",
      "at\n",
      "the\n",
      "end\n",
      "it\n",
      "was\n",
      "so\n",
      "sad\n",
      "and\n",
      "you\n",
      "know\n",
      "what\n",
      "they\n",
      "say\n",
      "if\n",
      "you\n",
      "cry\n",
      "at\n",
      "a\n",
      "film\n",
      "it\n",
      "must\n",
      "have\n",
      "been\n",
      "good\n",
      "and\n",
      "this\n",
      "definitely\n",
      "was\n",
      "also\n",
      "None\n",
      "to\n",
      "the\n",
      "two\n",
      "little\n",
      "boy's\n",
      "that\n",
      "played\n",
      "the\n",
      "None\n",
      "of\n",
      "norman\n",
      "and\n",
      "paul\n",
      "they\n",
      "were\n",
      "just\n",
      "brilliant\n",
      "children\n",
      "are\n",
      "often\n",
      "left\n",
      "out\n",
      "of\n",
      "the\n",
      "None\n",
      "list\n",
      "i\n",
      "think\n",
      "because\n",
      "the\n",
      "stars\n",
      "that\n",
      "play\n",
      "them\n",
      "all\n",
      "grown\n",
      "up\n",
      "are\n",
      "such\n",
      "a\n",
      "big\n",
      "profile\n",
      "for\n",
      "the\n",
      "whole\n",
      "film\n",
      "but\n",
      "these\n",
      "children\n",
      "are\n",
      "amazing\n",
      "and\n",
      "should\n",
      "be\n",
      "praised\n",
      "for\n",
      "what\n",
      "they\n",
      "have\n",
      "done\n",
      "don't\n",
      "you\n",
      "think\n",
      "the\n",
      "whole\n",
      "story\n",
      "was\n",
      "so\n",
      "lovely\n",
      "because\n",
      "it\n",
      "was\n",
      "true\n",
      "and\n",
      "was\n",
      "someone's\n",
      "life\n",
      "after\n",
      "all\n",
      "that\n",
      "was\n",
      "shared\n",
      "with\n",
      "us\n",
      "all\n"
     ]
    }
   ],
   "source": [
    "for _ in train_data[0]:\n",
    "    # The first three indexes are reserved words\n",
    "    print(word_index.get(_ - 3))\n"
   ]
  },
  {
   "cell_type": "code",
   "execution_count": 5,
   "metadata": {},
   "outputs": [],
   "source": [
    "# Keras only receives tensors\n",
    "\n",
    "def vectorize(sequences, dim=10000):\n",
    "    results = np.zeros((len(sequences), dim))\n",
    "    \n",
    "    for i, sequences in enumerate(sequences):\n",
    "        results[i, sequences] = 1\n",
    "\n",
    "    return results"
   ]
  },
  {
   "cell_type": "code",
   "execution_count": 6,
   "metadata": {},
   "outputs": [
    {
     "data": {
      "text/plain": [
       "(25000, 10000)"
      ]
     },
     "execution_count": 6,
     "metadata": {},
     "output_type": "execute_result"
    }
   ],
   "source": [
    "X_train = vectorize(train_data)\n",
    "x_test = vectorize(test_data)\n",
    "\n",
    "X_train.shape"
   ]
  },
  {
   "cell_type": "code",
   "execution_count": 7,
   "metadata": {},
   "outputs": [],
   "source": [
    "y_train = np.asarray(train_labels).astype('float32')\n",
    "y_test = np.asarray(test_labels).astype('float32')"
   ]
  },
  {
   "cell_type": "markdown",
   "metadata": {},
   "source": [
    "### Training model"
   ]
  },
  {
   "cell_type": "code",
   "execution_count": 8,
   "metadata": {},
   "outputs": [],
   "source": [
    "model = models.Sequential()\n",
    "### Generative and images use other type of layer\n",
    "### Dense layer is used for text\n",
    "model.add(layers.Dense(16, activation='relu', input_shape=(10000,)))\n",
    "model.add(layers.Dense(16, activation='relu'))\n",
    "# We use sigmoid because we want to know the probabilites between 0 and 1\n",
    "model.add(layers.Dense(1, activation='sigmoid'))"
   ]
  },
  {
   "cell_type": "code",
   "execution_count": 9,
   "metadata": {},
   "outputs": [],
   "source": [
    "model.compile(optimizer='rmsprop', loss='binary_crossentropy', metrics='accuracy')"
   ]
  },
  {
   "cell_type": "code",
   "execution_count": 10,
   "metadata": {},
   "outputs": [],
   "source": [
    "x_val = X_train[:10000]\n",
    "partial_x_train = X_train[10000:]\n",
    "\n",
    "y_val = y_train[:10000]\n",
    "partial_y_train = y_train[10000:]"
   ]
  },
  {
   "cell_type": "code",
   "execution_count": 14,
   "metadata": {},
   "outputs": [
    {
     "name": "stdout",
     "output_type": "stream",
     "text": [
      "Epoch 1/20\n",
      "30/30 [==============================] - 1s 34ms/step - loss: 0.1539 - accuracy: 0.9525 - val_loss: 0.2755 - val_accuracy: 0.8895\n",
      "Epoch 2/20\n",
      "30/30 [==============================] - 0s 16ms/step - loss: 0.1282 - accuracy: 0.9609 - val_loss: 0.2936 - val_accuracy: 0.8846\n",
      "Epoch 3/20\n",
      "30/30 [==============================] - 0s 14ms/step - loss: 0.1074 - accuracy: 0.9674 - val_loss: 0.2985 - val_accuracy: 0.8844\n",
      "Epoch 4/20\n",
      "30/30 [==============================] - 0s 17ms/step - loss: 0.0909 - accuracy: 0.9742 - val_loss: 0.3425 - val_accuracy: 0.8787\n",
      "Epoch 5/20\n",
      "30/30 [==============================] - 0s 13ms/step - loss: 0.0755 - accuracy: 0.9793 - val_loss: 0.3477 - val_accuracy: 0.8799\n",
      "Epoch 6/20\n",
      "30/30 [==============================] - 0s 10ms/step - loss: 0.0634 - accuracy: 0.9838 - val_loss: 0.3630 - val_accuracy: 0.8807\n",
      "Epoch 7/20\n",
      "30/30 [==============================] - 0s 9ms/step - loss: 0.0506 - accuracy: 0.9879 - val_loss: 0.4223 - val_accuracy: 0.8658\n",
      "Epoch 8/20\n",
      "30/30 [==============================] - 0s 12ms/step - loss: 0.0426 - accuracy: 0.9907 - val_loss: 0.4160 - val_accuracy: 0.8762\n",
      "Epoch 9/20\n",
      "30/30 [==============================] - 0s 16ms/step - loss: 0.0361 - accuracy: 0.9925 - val_loss: 0.4458 - val_accuracy: 0.8716\n",
      "Epoch 10/20\n",
      "30/30 [==============================] - 0s 14ms/step - loss: 0.0274 - accuracy: 0.9957 - val_loss: 0.4886 - val_accuracy: 0.8671\n",
      "Epoch 11/20\n",
      "30/30 [==============================] - 0s 17ms/step - loss: 0.0237 - accuracy: 0.9963 - val_loss: 0.5333 - val_accuracy: 0.8680\n",
      "Epoch 12/20\n",
      "30/30 [==============================] - 1s 19ms/step - loss: 0.0176 - accuracy: 0.9977 - val_loss: 0.5349 - val_accuracy: 0.8694\n",
      "Epoch 13/20\n",
      "30/30 [==============================] - 1s 18ms/step - loss: 0.0147 - accuracy: 0.9985 - val_loss: 0.5717 - val_accuracy: 0.8678\n",
      "Epoch 14/20\n",
      "30/30 [==============================] - 0s 15ms/step - loss: 0.0112 - accuracy: 0.9989 - val_loss: 0.6076 - val_accuracy: 0.8679\n",
      "Epoch 15/20\n",
      "30/30 [==============================] - 0s 10ms/step - loss: 0.0103 - accuracy: 0.9987 - val_loss: 0.6436 - val_accuracy: 0.8656\n",
      "Epoch 16/20\n",
      "30/30 [==============================] - 0s 11ms/step - loss: 0.0069 - accuracy: 0.9996 - val_loss: 0.6738 - val_accuracy: 0.8659\n",
      "Epoch 17/20\n",
      "30/30 [==============================] - 0s 17ms/step - loss: 0.0065 - accuracy: 0.9992 - val_loss: 0.7059 - val_accuracy: 0.8656\n",
      "Epoch 18/20\n",
      "30/30 [==============================] - 0s 9ms/step - loss: 0.0037 - accuracy: 0.9999 - val_loss: 0.7520 - val_accuracy: 0.8644\n",
      "Epoch 19/20\n",
      "30/30 [==============================] - 0s 9ms/step - loss: 0.0049 - accuracy: 0.9993 - val_loss: 0.7791 - val_accuracy: 0.8652\n",
      "Epoch 20/20\n",
      "30/30 [==============================] - 0s 9ms/step - loss: 0.0020 - accuracy: 0.9999 - val_loss: 0.8050 - val_accuracy: 0.8635\n"
     ]
    }
   ],
   "source": [
    "history = model.fit(partial_x_train, partial_y_train, \n",
    "                    epochs=20, batch_size=512, validation_data=(x_val, y_val))"
   ]
  },
  {
   "cell_type": "code",
   "execution_count": 15,
   "metadata": {},
   "outputs": [
    {
     "data": {
      "image/png": "[encoded data removed]",
      "text/plain": [
       "<Figure size 640x480 with 1 Axes>"
      ]
     },
     "metadata": {},
     "output_type": "display_data"
    }
   ],
   "source": [
    "import matplotlib.pyplot as plt\n",
    "\n",
    "history_dict = history.history\n",
    "loss_values = history_dict['loss']\n",
    "val_loss_values = history_dict['val_loss']\n",
    "\n",
    "epoch = range(1, len(loss_values)+1)\n",
    "plt.plot(epoch, loss_values, 'o', label='training')\n",
    "plt.plot(epoch, val_loss_values, '--', label='training')\n",
    "plt.legend()\n",
    "plt.show()"
   ]
  },
  {
   "cell_type": "code",
   "execution_count": 16,
   "metadata": {},
   "outputs": [
    {
     "name": "stdout",
     "output_type": "stream",
     "text": [
      "782/782 [==============================] - 0s 490us/step - loss: 0.8698 - accuracy: 0.8493\n"
     ]
    },
    {
     "data": {
      "text/plain": [
       "[0.869766891002655, 0.8493199944496155]"
      ]
     },
     "execution_count": 16,
     "metadata": {},
     "output_type": "execute_result"
    }
   ],
   "source": [
    "model.evaluate(x_test, y_test)"
   ]
  },
  {
   "cell_type": "code",
   "execution_count": 17,
   "metadata": {},
   "outputs": [
    {
     "name": "stdout",
     "output_type": "stream",
     "text": [
      "Epoch 1/20\n",
      "30/30 [==============================] - 1s 41ms/step - loss: 0.0033 - accuracy: 0.9996 - val_loss: 0.8401 - val_accuracy: 0.8651\n",
      "Epoch 2/20\n",
      "30/30 [==============================] - 0s 13ms/step - loss: 0.0013 - accuracy: 0.9999 - val_loss: 0.8699 - val_accuracy: 0.8630\n",
      "Epoch 3/20\n",
      "30/30 [==============================] - 0s 13ms/step - loss: 0.0027 - accuracy: 0.9995 - val_loss: 0.9153 - val_accuracy: 0.8614\n",
      "Epoch 4/20\n",
      "30/30 [==============================] - 0s 11ms/step - loss: 8.2438e-04 - accuracy: 0.9999 - val_loss: 0.9303 - val_accuracy: 0.8607\n",
      "Epoch 5/20\n",
      "30/30 [==============================] - 0s 9ms/step - loss: 0.0016 - accuracy: 0.9997 - val_loss: 0.9763 - val_accuracy: 0.8611\n",
      "Epoch 6/20\n",
      "30/30 [==============================] - 0s 16ms/step - loss: 5.1624e-04 - accuracy: 0.9999 - val_loss: 0.9908 - val_accuracy: 0.8606\n",
      "Epoch 7/20\n",
      "30/30 [==============================] - 0s 11ms/step - loss: 4.1721e-04 - accuracy: 0.9999 - val_loss: 1.0248 - val_accuracy: 0.8597\n",
      "Epoch 8/20\n",
      "30/30 [==============================] - 0s 9ms/step - loss: 0.0020 - accuracy: 0.9995 - val_loss: 1.0743 - val_accuracy: 0.8589\n",
      "Epoch 9/20\n",
      "30/30 [==============================] - 0s 9ms/step - loss: 2.3236e-04 - accuracy: 1.0000 - val_loss: 1.0880 - val_accuracy: 0.8590\n",
      "Epoch 10/20\n",
      "30/30 [==============================] - 0s 9ms/step - loss: 1.9090e-04 - accuracy: 1.0000 - val_loss: 1.1189 - val_accuracy: 0.8589\n",
      "Epoch 11/20\n",
      "30/30 [==============================] - 0s 9ms/step - loss: 0.0017 - accuracy: 0.9995 - val_loss: 1.1541 - val_accuracy: 0.8578\n",
      "Epoch 12/20\n",
      "30/30 [==============================] - 0s 10ms/step - loss: 1.1921e-04 - accuracy: 1.0000 - val_loss: 1.1669 - val_accuracy: 0.8581\n",
      "Epoch 13/20\n",
      "30/30 [==============================] - 0s 11ms/step - loss: 1.0278e-04 - accuracy: 1.0000 - val_loss: 1.1879 - val_accuracy: 0.8569\n",
      "Epoch 14/20\n",
      "30/30 [==============================] - 0s 11ms/step - loss: 8.2847e-05 - accuracy: 1.0000 - val_loss: 1.2421 - val_accuracy: 0.8568\n",
      "Epoch 15/20\n",
      "30/30 [==============================] - 0s 9ms/step - loss: 0.0016 - accuracy: 0.9994 - val_loss: 1.2791 - val_accuracy: 0.8561\n",
      "Epoch 16/20\n",
      "30/30 [==============================] - 0s 9ms/step - loss: 5.4841e-05 - accuracy: 1.0000 - val_loss: 1.2909 - val_accuracy: 0.8571\n",
      "Epoch 17/20\n",
      "30/30 [==============================] - 0s 8ms/step - loss: 4.4484e-05 - accuracy: 1.0000 - val_loss: 1.3091 - val_accuracy: 0.8565\n",
      "Epoch 18/20\n",
      "30/30 [==============================] - 0s 8ms/step - loss: 3.5526e-05 - accuracy: 1.0000 - val_loss: 1.3585 - val_accuracy: 0.8562\n",
      "Epoch 19/20\n",
      "30/30 [==============================] - 0s 7ms/step - loss: 4.3562e-04 - accuracy: 0.9998 - val_loss: 1.4091 - val_accuracy: 0.8560\n",
      "Epoch 20/20\n",
      "30/30 [==============================] - 0s 9ms/step - loss: 1.8317e-05 - accuracy: 1.0000 - val_loss: 1.4202 - val_accuracy: 0.8564\n"
     ]
    }
   ],
   "source": [
    "history = model.fit(partial_x_train, partial_y_train, \n",
    "                    epochs=20, batch_size=512, validation_data=(x_val, y_val))"
   ]
  },
  {
   "cell_type": "code",
   "execution_count": null,
   "metadata": {},
   "outputs": [],
   "source": []
  }
 ],
 "metadata": {
  "kernelspec": {
   "display_name": "Python 3",
   "language": "python",
   "name": "python3"
  },
  "language_info": {
   "codemirror_mode": {
    "name": "ipython",
    "version": 3
   },
   "file_extension": ".py",
   "mimetype": "text/x-python",
   "name": "python",
   "nbconvert_exporter": "python",
   "pygments_lexer": "ipython3",
   "version": "3.11.3"
  }
 },
 "nbformat": 4,
 "nbformat_minor": 2
}
